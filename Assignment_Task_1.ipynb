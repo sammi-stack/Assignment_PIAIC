{
 "cells": [
  {
   "cell_type": "markdown",
   "id": "56b45886",
   "metadata": {},
   "source": [
    "# TASK 1                  SAMI AHMED"
   ]
  },
  {
   "cell_type": "code",
   "execution_count": 1,
   "id": "d2fb7848",
   "metadata": {},
   "outputs": [
    {
     "name": "stdout",
     "output_type": "stream",
     "text": [
      "please enter your number 1: 1\n",
      "please enter your number 2: 2\n",
      "After multiply output is: 2\n"
     ]
    }
   ],
   "source": [
    "num1 = input(\"please enter your number 1: \")\n",
    "num2 = input(\"please enter your number 2: \")\n",
    "multiply = int(num1) * int(num2)\n",
    "print(\"After multiply output is: \" + str(multiply))"
   ]
  },
  {
   "cell_type": "code",
   "execution_count": 2,
   "id": "baf9bace",
   "metadata": {},
   "outputs": [
    {
     "name": "stdout",
     "output_type": "stream",
     "text": [
      "please enter your number 1: 6\n",
      "please enter your number 2: 2\n",
      "After divide output is: 3.0\n"
     ]
    }
   ],
   "source": [
    "num1 = input(\"please enter your number 1: \")\n",
    "num2 = input(\"please enter your number 2: \")\n",
    "divide = int(num1) / int(num2)\n",
    "print(\"After divide output is: \" + str(divide))"
   ]
  },
  {
   "cell_type": "code",
   "execution_count": 3,
   "id": "55327f33",
   "metadata": {},
   "outputs": [
    {
     "name": "stdout",
     "output_type": "stream",
     "text": [
      "please enter your number 1: 9\n",
      "please enter your number 2: 2\n",
      "After subtracting output is: 7\n"
     ]
    }
   ],
   "source": [
    "num1 = input(\"please enter your number 1: \")\n",
    "num2 = input(\"please enter your number 2: \")\n",
    "Subtraction = int(num1) - int(num2)\n",
    "print(\"After subtracting output is: \" + str(Subtraction))"
   ]
  },
  {
   "cell_type": "code",
   "execution_count": 1,
   "id": "9fbe0dd4",
   "metadata": {},
   "outputs": [
    {
     "name": "stdout",
     "output_type": "stream",
     "text": [
      "please enter your number 1: 5\n",
      "please enter your number 2: 5\n",
      "After adding output is: 10\n"
     ]
    }
   ],
   "source": [
    "num1 = input(\"please enter your number 1: \")\n",
    "num2 = input(\"please enter your number 2: \")\n",
    "addition = int(num1) + int(num2)\n",
    "print(\"After adding output is: \" + str(addition))"
   ]
  }
 ],
 "metadata": {
  "kernelspec": {
   "display_name": "Python 3 (ipykernel)",
   "language": "python",
   "name": "python3"
  },
  "language_info": {
   "codemirror_mode": {
    "name": "ipython",
    "version": 3
   },
   "file_extension": ".py",
   "mimetype": "text/x-python",
   "name": "python",
   "nbconvert_exporter": "python",
   "pygments_lexer": "ipython3",
   "version": "3.7.0"
  }
 },
 "nbformat": 4,
 "nbformat_minor": 5
}
